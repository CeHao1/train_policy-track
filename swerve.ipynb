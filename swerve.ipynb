{
 "cells": [
  {
   "cell_type": "code",
   "execution_count": 3,
   "metadata": {},
   "outputs": [],
   "source": [
    "import numpy as np\n",
    "import matplotlib.pyplot as plt\n",
    "\n",
    "%matplotlib inline"
   ]
  },
  {
   "cell_type": "markdown",
   "metadata": {},
   "source": [
    "## build a track and ego car"
   ]
  },
  {
   "cell_type": "code",
   "execution_count": 4,
   "metadata": {},
   "outputs": [],
   "source": [
    "class tarck:\n",
    "    def __init__(self, sequence=0):\n",
    "        self.width = 5\n",
    "        self.sequence = sequence\n",
    "        \n",
    "class ego:\n",
    "    def __init__(self):\n",
    "        self.width = 3\n",
    "        self.length = 10\n",
    "        \n",
    "        # states \n",
    "        self.X = 0\n",
    "        self.Y = 0\n",
    "        \n",
    "        "
   ]
  },
  {
   "cell_type": "markdown",
   "metadata": {},
   "source": [
    "## build a wall"
   ]
  },
  {
   "cell_type": "code",
   "execution_count": 60,
   "metadata": {},
   "outputs": [],
   "source": [
    "class swerve_wall:\n",
    "    EXISTING_TIME = 2.0 \n",
    "    THRESHOLD = 0.5 # when obstacle is closed to edge of track\n",
    "    \n",
    "    def If_invade(Y_dist, half_width_of_track): \n",
    "        return Y_dist < half_width_of_track + swerve_wall.THRESHOLD\n",
    "    \n",
    "    def __init__(self, Y_dist, half_width_of_track):\n",
    "        self.last_time = swerve_wall.EXISTING_TIME # existing time\n",
    "        self.Y_dist = Y_dist # Y_dist is the distance to reference centerline\n",
    "        self.half_width_of_track = half_width_of_track\n",
    "        \n",
    "    def update(self, Y_dist, elasp_time):\n",
    "        if Y_dist < swerve_wall.THRESHOLD + self.half_width_of_track:\n",
    "            # invade again\n",
    "            self.last_time = swerve_wall.EXISTING_TIME\n",
    "            self.Y_dist = min(Y_dist, self.Y_dist)\n",
    "            return True\n",
    "        else:             \n",
    "            self.last_time -= elasp_time\n",
    "            return False if self.last_time <= 0 else True\n",
    "\n",
    "         "
   ]
  },
  {
   "cell_type": "code",
   "execution_count": 81,
   "metadata": {},
   "outputs": [
    {
     "name": "stdout",
     "output_type": "stream",
     "text": [
      "invade again\n",
      "the car should swerve\n"
     ]
    }
   ],
   "source": [
    "Y_dist = 2.0\n",
    "half_width_of_track = 5.0/2\n",
    "car_ind = 2\n",
    "\n",
    "# build an dict to store all invading cars\n",
    "swerve_state = {}\n",
    "\n",
    "# check if a car invade reference track\n",
    "if (swerve_wall.If_invade(Y_dist, half_width_of_track)):\n",
    "    swerve_state[car_ind] = swerve_wall(Y_dist, half_width_of_track)\n",
    "\n",
    "elasp_time = 1.0 # seconds\n",
    "# check existing wall\n",
    "if (not swerve_state[car_ind].update(Y_dist =1.0 ,elasp_time=elasp_time)):\n",
    "    del swerve_state[car_ind]\n",
    "    \n",
    "# check if any swerve wall exist\n",
    "if bool(swerve_state):\n",
    "    print('the car should swerve')\n",
    "else:\n",
    "    print('the car should NOT swerve')"
   ]
  },
  {
   "cell_type": "code",
   "execution_count": 83,
   "metadata": {},
   "outputs": [
    {
     "data": {
      "text/plain": [
       "1.0"
      ]
     },
     "execution_count": 83,
     "metadata": {},
     "output_type": "execute_result"
    }
   ],
   "source": [
    "swerve_state[car_ind].Y_dist"
   ]
  },
  {
   "cell_type": "code",
   "execution_count": null,
   "metadata": {},
   "outputs": [],
   "source": []
  }
 ],
 "metadata": {
  "kernelspec": {
   "display_name": "Python 3",
   "language": "python",
   "name": "python3"
  },
  "language_info": {
   "codemirror_mode": {
    "name": "ipython",
    "version": 3
   },
   "file_extension": ".py",
   "mimetype": "text/x-python",
   "name": "python",
   "nbconvert_exporter": "python",
   "pygments_lexer": "ipython3",
   "version": "3.8.6"
  }
 },
 "nbformat": 4,
 "nbformat_minor": 4
}
