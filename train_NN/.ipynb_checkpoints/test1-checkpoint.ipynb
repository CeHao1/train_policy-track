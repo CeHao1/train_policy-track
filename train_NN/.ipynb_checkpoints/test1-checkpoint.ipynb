{
 "cells": [
  {
   "cell_type": "code",
   "execution_count": 192,
   "metadata": {},
   "outputs": [],
   "source": [
    "import scipy.io\n",
    "import numpy as np\n",
    "import tensorflow as tf\n",
    "import matplotlib.pyplot as plt\n",
    "import random\n",
    "%matplotlib inline"
   ]
  },
  {
   "cell_type": "code",
   "execution_count": 178,
   "metadata": {},
   "outputs": [],
   "source": [
    "train=scipy.io.loadmat(\"train_both_smooth.mat\")\n",
    "train_data=train['data']\n",
    "train_targets=train['targets']\n",
    "train_targets=train_targets/0.1;\n",
    "\n",
    "test=scipy.io.loadmat(\"test_both.mat\")\n",
    "test_data=test['data']\n",
    "test_targets=test['targets']\n",
    "test_targets=test_targets/0.1;\n",
    "\n",
    "\n",
    "# print(train_data.shape)\n",
    "# print(train_targets.shape)"
   ]
  },
  {
   "cell_type": "code",
   "execution_count": 179,
   "metadata": {},
   "outputs": [],
   "source": [
    "def get_new_model(input_shape):\n",
    "    model=tf.keras.Sequential([\n",
    "        tf.keras.layers.Dense(64,activation='tanh', \n",
    "                              input_shape=input_shape),\n",
    "        \n",
    "        tf.keras.layers.Dense(128,activation='tanh'),\n",
    "        tf.keras.layers.Dense(1000),\n",
    "        tf.keras.layers.Dense(300),\n",
    "        \n",
    "    ])\n",
    "    return model\n",
    "\n",
    "\n"
   ]
  },
  {
   "cell_type": "code",
   "execution_count": 180,
   "metadata": {},
   "outputs": [
    {
     "name": "stdout",
     "output_type": "stream",
     "text": [
      "Model: \"sequential_10\"\n",
      "_________________________________________________________________\n",
      "Layer (type)                 Output Shape              Param #   \n",
      "=================================================================\n",
      "dense_37 (Dense)             (None, 64)                448       \n",
      "_________________________________________________________________\n",
      "dense_38 (Dense)             (None, 128)               8320      \n",
      "_________________________________________________________________\n",
      "dense_39 (Dense)             (None, 1000)              129000    \n",
      "_________________________________________________________________\n",
      "dense_40 (Dense)             (None, 300)               300300    \n",
      "=================================================================\n",
      "Total params: 438,068\n",
      "Trainable params: 438,068\n",
      "Non-trainable params: 0\n",
      "_________________________________________________________________\n"
     ]
    }
   ],
   "source": [
    "model=get_new_model(train_data[0].shape)\n",
    "model.summary()"
   ]
  },
  {
   "cell_type": "code",
   "execution_count": 181,
   "metadata": {},
   "outputs": [],
   "source": [
    "def compile_model(model):\n",
    "    model.compile(optimizer='adam',loss='mse')\n",
    "\n",
    "compile_model(model)"
   ]
  },
  {
   "cell_type": "code",
   "execution_count": 182,
   "metadata": {},
   "outputs": [],
   "source": [
    "def train_model(model,train_data,train_targets,\n",
    "                validation_data,epochs):\n",
    "    history=model.fit(train_data,train_targets,epochs=epochs,\n",
    "                     validation_data=validation_data,\n",
    "                      batch_size=64,verbose=2)\n",
    "    \n",
    "    return history\n",
    "    "
   ]
  },
  {
   "cell_type": "code",
   "execution_count": 183,
   "metadata": {},
   "outputs": [
    {
     "name": "stdout",
     "output_type": "stream",
     "text": [
      "Epoch 1/100\n",
      "79/79 - 0s - loss: 0.0929 - val_loss: 0.1239\n",
      "Epoch 2/100\n",
      "79/79 - 0s - loss: 0.0750 - val_loss: 0.1142\n",
      "Epoch 3/100\n",
      "79/79 - 0s - loss: 0.0741 - val_loss: 0.1287\n",
      "Epoch 4/100\n",
      "79/79 - 0s - loss: 0.0730 - val_loss: 0.1289\n",
      "Epoch 5/100\n",
      "79/79 - 0s - loss: 0.0697 - val_loss: 0.1244\n",
      "Epoch 6/100\n",
      "79/79 - 0s - loss: 0.0619 - val_loss: 0.1286\n",
      "Epoch 7/100\n",
      "79/79 - 0s - loss: 0.0534 - val_loss: 0.1377\n",
      "Epoch 8/100\n",
      "79/79 - 0s - loss: 0.0476 - val_loss: 0.1306\n",
      "Epoch 9/100\n",
      "79/79 - 0s - loss: 0.0424 - val_loss: 0.1387\n",
      "Epoch 10/100\n",
      "79/79 - 0s - loss: 0.0383 - val_loss: 0.1160\n",
      "Epoch 11/100\n",
      "79/79 - 0s - loss: 0.0342 - val_loss: 0.1168\n",
      "Epoch 12/100\n",
      "79/79 - 0s - loss: 0.0301 - val_loss: 0.1226\n",
      "Epoch 13/100\n",
      "79/79 - 0s - loss: 0.0278 - val_loss: 0.1215\n",
      "Epoch 14/100\n",
      "79/79 - 0s - loss: 0.0253 - val_loss: 0.1290\n",
      "Epoch 15/100\n",
      "79/79 - 0s - loss: 0.0238 - val_loss: 0.1261\n",
      "Epoch 16/100\n",
      "79/79 - 0s - loss: 0.0225 - val_loss: 0.1336\n",
      "Epoch 17/100\n",
      "79/79 - 0s - loss: 0.0222 - val_loss: 0.1299\n",
      "Epoch 18/100\n",
      "79/79 - 0s - loss: 0.0206 - val_loss: 0.1429\n",
      "Epoch 19/100\n",
      "79/79 - 0s - loss: 0.0205 - val_loss: 0.1272\n",
      "Epoch 20/100\n",
      "79/79 - 0s - loss: 0.0197 - val_loss: 0.1342\n",
      "Epoch 21/100\n",
      "79/79 - 0s - loss: 0.0198 - val_loss: 0.1224\n",
      "Epoch 22/100\n",
      "79/79 - 0s - loss: 0.0197 - val_loss: 0.1229\n",
      "Epoch 23/100\n",
      "79/79 - 0s - loss: 0.0190 - val_loss: 0.1382\n",
      "Epoch 24/100\n",
      "79/79 - 0s - loss: 0.0186 - val_loss: 0.1429\n",
      "Epoch 25/100\n",
      "79/79 - 0s - loss: 0.0188 - val_loss: 0.1400\n",
      "Epoch 26/100\n",
      "79/79 - 0s - loss: 0.0179 - val_loss: 0.1304\n",
      "Epoch 27/100\n",
      "79/79 - 0s - loss: 0.0187 - val_loss: 0.1367\n",
      "Epoch 28/100\n",
      "79/79 - 0s - loss: 0.0177 - val_loss: 0.1422\n",
      "Epoch 29/100\n",
      "79/79 - 0s - loss: 0.0177 - val_loss: 0.1432\n",
      "Epoch 30/100\n",
      "79/79 - 0s - loss: 0.0170 - val_loss: 0.1303\n",
      "Epoch 31/100\n",
      "79/79 - 0s - loss: 0.0173 - val_loss: 0.1421\n",
      "Epoch 32/100\n",
      "79/79 - 0s - loss: 0.0170 - val_loss: 0.1314\n",
      "Epoch 33/100\n",
      "79/79 - 0s - loss: 0.0174 - val_loss: 0.1374\n",
      "Epoch 34/100\n",
      "79/79 - 0s - loss: 0.0167 - val_loss: 0.1351\n",
      "Epoch 35/100\n",
      "79/79 - 0s - loss: 0.0165 - val_loss: 0.1349\n",
      "Epoch 36/100\n",
      "79/79 - 0s - loss: 0.0163 - val_loss: 0.1385\n",
      "Epoch 37/100\n",
      "79/79 - 0s - loss: 0.0163 - val_loss: 0.1325\n",
      "Epoch 38/100\n",
      "79/79 - 0s - loss: 0.0158 - val_loss: 0.1403\n",
      "Epoch 39/100\n",
      "79/79 - 0s - loss: 0.0169 - val_loss: 0.1374\n",
      "Epoch 40/100\n",
      "79/79 - 0s - loss: 0.0157 - val_loss: 0.1464\n",
      "Epoch 41/100\n",
      "79/79 - 0s - loss: 0.0155 - val_loss: 0.1496\n",
      "Epoch 42/100\n",
      "79/79 - 0s - loss: 0.0154 - val_loss: 0.1368\n",
      "Epoch 43/100\n",
      "79/79 - 0s - loss: 0.0155 - val_loss: 0.1403\n",
      "Epoch 44/100\n",
      "79/79 - 0s - loss: 0.0153 - val_loss: 0.1493\n",
      "Epoch 45/100\n",
      "79/79 - 0s - loss: 0.0153 - val_loss: 0.1403\n",
      "Epoch 46/100\n",
      "79/79 - 0s - loss: 0.0150 - val_loss: 0.1425\n",
      "Epoch 47/100\n",
      "79/79 - 0s - loss: 0.0147 - val_loss: 0.1441\n",
      "Epoch 48/100\n",
      "79/79 - 0s - loss: 0.0148 - val_loss: 0.1398\n",
      "Epoch 49/100\n",
      "79/79 - 0s - loss: 0.0142 - val_loss: 0.1334\n",
      "Epoch 50/100\n",
      "79/79 - 0s - loss: 0.0146 - val_loss: 0.1494\n",
      "Epoch 51/100\n",
      "79/79 - 0s - loss: 0.0142 - val_loss: 0.1524\n",
      "Epoch 52/100\n",
      "79/79 - 0s - loss: 0.0140 - val_loss: 0.1375\n",
      "Epoch 53/100\n",
      "79/79 - 0s - loss: 0.0141 - val_loss: 0.1493\n",
      "Epoch 54/100\n",
      "79/79 - 0s - loss: 0.0137 - val_loss: 0.1369\n",
      "Epoch 55/100\n",
      "79/79 - 0s - loss: 0.0139 - val_loss: 0.1322\n",
      "Epoch 56/100\n",
      "79/79 - 0s - loss: 0.0137 - val_loss: 0.1383\n",
      "Epoch 57/100\n",
      "79/79 - 0s - loss: 0.0137 - val_loss: 0.1371\n",
      "Epoch 58/100\n",
      "79/79 - 0s - loss: 0.0137 - val_loss: 0.1407\n",
      "Epoch 59/100\n",
      "79/79 - 0s - loss: 0.0136 - val_loss: 0.1426\n",
      "Epoch 60/100\n",
      "79/79 - 0s - loss: 0.0132 - val_loss: 0.1445\n",
      "Epoch 61/100\n",
      "79/79 - 0s - loss: 0.0133 - val_loss: 0.1306\n",
      "Epoch 62/100\n",
      "79/79 - 0s - loss: 0.0133 - val_loss: 0.1421\n",
      "Epoch 63/100\n",
      "79/79 - 0s - loss: 0.0129 - val_loss: 0.1481\n",
      "Epoch 64/100\n",
      "79/79 - 0s - loss: 0.0130 - val_loss: 0.1356\n",
      "Epoch 65/100\n",
      "79/79 - 0s - loss: 0.0125 - val_loss: 0.1359\n",
      "Epoch 66/100\n",
      "79/79 - 0s - loss: 0.0130 - val_loss: 0.1398\n",
      "Epoch 67/100\n",
      "79/79 - 0s - loss: 0.0131 - val_loss: 0.1420\n",
      "Epoch 68/100\n",
      "79/79 - 0s - loss: 0.0129 - val_loss: 0.1399\n",
      "Epoch 69/100\n",
      "79/79 - 0s - loss: 0.0126 - val_loss: 0.1465\n",
      "Epoch 70/100\n",
      "79/79 - 0s - loss: 0.0130 - val_loss: 0.1369\n",
      "Epoch 71/100\n",
      "79/79 - 0s - loss: 0.0130 - val_loss: 0.1370\n",
      "Epoch 72/100\n",
      "79/79 - 0s - loss: 0.0126 - val_loss: 0.1521\n",
      "Epoch 73/100\n",
      "79/79 - 0s - loss: 0.0124 - val_loss: 0.1382\n",
      "Epoch 74/100\n",
      "79/79 - 0s - loss: 0.0121 - val_loss: 0.1291\n",
      "Epoch 75/100\n",
      "79/79 - 0s - loss: 0.0135 - val_loss: 0.1352\n",
      "Epoch 76/100\n",
      "79/79 - 0s - loss: 0.0126 - val_loss: 0.1310\n",
      "Epoch 77/100\n",
      "79/79 - 0s - loss: 0.0120 - val_loss: 0.1438\n",
      "Epoch 78/100\n",
      "79/79 - 0s - loss: 0.0121 - val_loss: 0.1380\n",
      "Epoch 79/100\n",
      "79/79 - 0s - loss: 0.0124 - val_loss: 0.1386\n",
      "Epoch 80/100\n",
      "79/79 - 0s - loss: 0.0119 - val_loss: 0.1402\n",
      "Epoch 81/100\n",
      "79/79 - 0s - loss: 0.0121 - val_loss: 0.1417\n",
      "Epoch 82/100\n",
      "79/79 - 0s - loss: 0.0121 - val_loss: 0.1433\n",
      "Epoch 83/100\n",
      "79/79 - 0s - loss: 0.0118 - val_loss: 0.1393\n",
      "Epoch 84/100\n",
      "79/79 - 0s - loss: 0.0120 - val_loss: 0.1436\n",
      "Epoch 85/100\n",
      "79/79 - 0s - loss: 0.0120 - val_loss: 0.1418\n",
      "Epoch 86/100\n",
      "79/79 - 0s - loss: 0.0120 - val_loss: 0.1426\n",
      "Epoch 87/100\n",
      "79/79 - 0s - loss: 0.0116 - val_loss: 0.1416\n",
      "Epoch 88/100\n",
      "79/79 - 0s - loss: 0.0116 - val_loss: 0.1344\n",
      "Epoch 89/100\n",
      "79/79 - 0s - loss: 0.0114 - val_loss: 0.1347\n",
      "Epoch 90/100\n",
      "79/79 - 0s - loss: 0.0116 - val_loss: 0.1397\n",
      "Epoch 91/100\n",
      "79/79 - 0s - loss: 0.0116 - val_loss: 0.1452\n",
      "Epoch 92/100\n",
      "79/79 - 0s - loss: 0.0119 - val_loss: 0.1420\n",
      "Epoch 93/100\n",
      "79/79 - 0s - loss: 0.0115 - val_loss: 0.1347\n",
      "Epoch 94/100\n",
      "79/79 - 0s - loss: 0.0121 - val_loss: 0.1351\n",
      "Epoch 95/100\n",
      "79/79 - 0s - loss: 0.0112 - val_loss: 0.1421\n",
      "Epoch 96/100\n",
      "79/79 - 0s - loss: 0.0115 - val_loss: 0.1376\n",
      "Epoch 97/100\n",
      "79/79 - 0s - loss: 0.0110 - val_loss: 0.1419\n",
      "Epoch 98/100\n",
      "79/79 - 0s - loss: 0.0112 - val_loss: 0.1435\n",
      "Epoch 99/100\n",
      "79/79 - 0s - loss: 0.0119 - val_loss: 0.1383\n",
      "Epoch 100/100\n",
      "79/79 - 0s - loss: 0.0114 - val_loss: 0.1379\n"
     ]
    }
   ],
   "source": [
    "validation_data=(test_data,test_targets)\n",
    "history=train_model(model,train_data,train_targets,\n",
    "                    validation_data,epochs=100)"
   ]
  },
  {
   "cell_type": "code",
   "execution_count": 184,
   "metadata": {},
   "outputs": [
    {
     "data": {
      "text/plain": [
       "[<matplotlib.lines.Line2D at 0x7f63abfe49d0>]"
      ]
     },
     "execution_count": 184,
     "metadata": {},
     "output_type": "execute_result"
    },
    {
     "data": {
      "image/png": "[encoded data removed]",
      "text/plain": [
       "<Figure size 432x288 with 1 Axes>"
      ]
     },
     "metadata": {
      "needs_background": "light"
     },
     "output_type": "display_data"
    }
   ],
   "source": [
    "plt.figure\n",
    "plt.plot(history.history[\"loss\"],'b')\n",
    "plt.plot(history.history[\"val_loss\"],'r')"
   ]
  },
  {
   "cell_type": "code",
   "execution_count": 185,
   "metadata": {},
   "outputs": [],
   "source": [
    "prediction=model.predict(train_data)"
   ]
  },
  {
   "cell_type": "code",
   "execution_count": 204,
   "metadata": {},
   "outputs": [
    {
     "data": {
      "image/png": "[encoded data removed]",
      "text/plain": [
       "<Figure size 432x288 with 20 Axes>"
      ]
     },
     "metadata": {
      "needs_background": "light"
     },
     "output_type": "display_data"
    }
   ],
   "source": [
    "allfigures=20;\n",
    "\n",
    "index=random.sample(range(0,train_targets.shape[0]),allfigures)\n",
    "\n",
    "plt.figure\n",
    "\n",
    "for i in range(allfigures):\n",
    "    plt.subplot(10,2,i+1)\n",
    "    plt.plot(train_targets[index[i]],'b')\n",
    "    plt.plot(prediction[index[i]],'r')\n",
    "plt.show()"
   ]
  }
 ],
 "metadata": {
  "kernelspec": {
   "display_name": "Python 3",
   "language": "python",
   "name": "python3"
  },
  "language_info": {
   "codemirror_mode": {
    "name": "ipython",
    "version": 3
   },
   "file_extension": ".py",
   "mimetype": "text/x-python",
   "name": "python",
   "nbconvert_exporter": "python",
   "pygments_lexer": "ipython3",
   "version": "3.8.6"
  }
 },
 "nbformat": 4,
 "nbformat_minor": 4
}
