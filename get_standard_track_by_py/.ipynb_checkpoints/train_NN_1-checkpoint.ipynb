{
 "cells": [
  {
   "cell_type": "code",
   "execution_count": 16,
   "metadata": {},
   "outputs": [],
   "source": [
    "import tensorflow as tf\n",
    "import numpy as np\n",
    "import matplotlib.pyplot as plt\n",
    "\n",
    "%matplotlib inline"
   ]
  },
  {
   "cell_type": "code",
   "execution_count": 3,
   "metadata": {},
   "outputs": [],
   "source": [
    "# load dataset\n",
    "\n",
    "# input is Fs, Ps, max_kap, len\n",
    "\n",
    "# output is time, V_exit\n",
    "\n",
    "# training is uniformly sampled, while testing is randomly sampled\n",
    "\n",
    "\n"
   ]
  },
  {
   "cell_type": "code",
   "execution_count": 15,
   "metadata": {},
   "outputs": [],
   "source": [
    "class get_new_network:\n",
    "    \n",
    "    def __init__(self, train_data, train_target, test_data, test_target):\n",
    "        self.train_data = train_data\n",
    "        self.train_target = train_target\n",
    "        self.test_data = test_data\n",
    "        self.test_target = test_target\n",
    "        \n",
    "    def build_model(self):\n",
    "        model=tf.keras.Sequential([\n",
    "            tf.keras.layers.Dense(32,activation='relu',\n",
    "                                  input_shape=self.train_data[0].shape, name='input_layer'),\n",
    "            \n",
    "            # rest layers\n",
    "            \n",
    "            \n",
    "            # output layer\n",
    "            tf.keras.layers.Dense(2, name='output_layer')\n",
    "        ])\n",
    "\n",
    "        self.model=model\n",
    "        \n",
    "    def compile_model(self):\n",
    "        \n",
    "        self.model.compile(optimizer='adam',loss='mse')\n",
    "        \n",
    "    def train_model(self,epochs=100, batch_size=64):\n",
    "        \n",
    "        self.history = model.fit(self.train_data, self.train_target, \n",
    "                                validation_data = (self.test_data, self.test_target),\n",
    "                                epochs = epochs, batch_size = batch_size,\n",
    "                                 verbose = 2)\n",
    "        \n",
    "        \n",
    "    def predict_model(self, predict_data):\n",
    "        \n",
    "        self.predict_target = self.model.predict(predict_data)\n",
    "        \n",
    "        \n",
    "    def save_model(self, name):\n",
    "        pass\n",
    "        \n",
    "        \n",
    "    def load_model(self, name):\n",
    "        pass\n",
    "    \n",
    "    def callbacks(self):\n",
    "        pass\n",
    "        \n",
    "    def plot_loss(self):\n",
    "        \n",
    "        plt.figure\n",
    "        l1 = plt.plot(history.history[\"loss\"],'b')\n",
    "        l2 = plt.plot(history.history[\"val_loss\"],'r')\n",
    "        plt.legend((l1,l2),(\"loss\",\"val_loss\"))\n",
    "        plt.show()\n",
    "        \n",
    "        "
   ]
  },
  {
   "cell_type": "code",
   "execution_count": null,
   "metadata": {},
   "outputs": [],
   "source": []
  }
 ],
 "metadata": {
  "kernelspec": {
   "display_name": "Python 3",
   "language": "python",
   "name": "python3"
  },
  "language_info": {
   "codemirror_mode": {
    "name": "ipython",
    "version": 3
   },
   "file_extension": ".py",
   "mimetype": "text/x-python",
   "name": "python",
   "nbconvert_exporter": "python",
   "pygments_lexer": "ipython3",
   "version": "3.7.9"
  }
 },
 "nbformat": 4,
 "nbformat_minor": 4
}
