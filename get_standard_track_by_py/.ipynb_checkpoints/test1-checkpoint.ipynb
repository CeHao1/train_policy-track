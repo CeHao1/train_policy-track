{
 "cells": [
  {
   "cell_type": "code",
   "execution_count": 1,
   "metadata": {},
   "outputs": [],
   "source": [
    "import numpy as np\n",
    "import cvxpy as cp\n",
    "import matplotlib.pyplot as plt\n",
    "import time\n",
    "\n",
    "%matplotlib inline"
   ]
  },
  {
   "cell_type": "code",
   "execution_count": 2,
   "metadata": {},
   "outputs": [],
   "source": [
    "class build_track:\n",
    "    def __init__(self,F):\n",
    "        num=200\n",
    "        F1=F[0]\n",
    "        F2=F[1]\n",
    "        self.Center_X=np.linspace(-F1,1,num)\n",
    "        self.Center_Y=np.linspace(0,0,num)\n",
    "        \n",
    "        self.WL=0.1\n",
    "        self.WR=0.1\n",
    "        \n",
    "        self.Left_X=self.Center_X\n",
    "        self.Left_Y=np.linspace(1,1,num)*self.WL\n",
    "        \n",
    "        self.Right_X=self.Center_X\n",
    "        self.Right_Y=np.linspace(-1,-1,num)*self.WR\n",
    "        "
   ]
  },
  {
   "cell_type": "code",
   "execution_count": 46,
   "metadata": {},
   "outputs": [],
   "source": [
    "class build_path:\n",
    "    def __init__(self,F,P,T):\n",
    "        F1=F[0]\n",
    "        F2=F[1]\n",
    "        self.PX=np.array([-F1,0,F2,1])\n",
    "        self.PY=P*T.WL\n",
    "        self.S=np.array([0,F1,F1+F2,F1+1])\n",
    "        self.WL=T.WL\n",
    "        self.WR=T.WR\n",
    "        \n",
    "        self.len=F1+1\n",
    "        self.Vx=0.01\n",
    "        self.Np=int(np.floor(self.len/self.Vx))\n",
    "        self.Ns=2\n",
    "        self.Nc=1\n",
    "        Np=self.Np\n",
    "        Ns=self.Ns\n",
    "        Nc=self.Nc\n",
    "        self.X=np.linspace(-F1,1,Np+1)\n",
    "        \n",
    "\n",
    "        self.Ac=np.array([[0,1],[0,0] ])\n",
    "        self.Bc=np.array([[0],[1]])\n",
    "        self.Ad=np.eye(Ns)+self.Ac\n",
    "        self.Bd=self.Bc\n",
    "        \n",
    "        # parameters of constraints\n",
    "        self.Q=np.array([1.0,0])\n",
    "        self.R=np.array([5.0])\n",
    "        ind=np.floor(self.S/self.Vx)\n",
    "        self.ind=np.array([int(i) for i in ind])\n",
    "        \n",
    "        # dynamics model      \n",
    "        A_combined1=np.eye((Np+1)*Ns)\n",
    "        A_combined2=np.zeros(((Np+1)*Ns,Np*Nc))\n",
    "#         self.b_qp=np.zeros((Np+1)*Ns)\n",
    "        \n",
    "        for index in range(Np):\n",
    "            ind1=Ns+index*Ns+np.arange(Ns)\n",
    "            ind2x=index*Ns+np.arange(Ns)\n",
    "            ind2u=index*Nc+np.arange(Nc)\n",
    "            \n",
    "            A_combined1[np.ix_(ind1,ind2x)]=-self.Ad\n",
    "            A_combined2[np.ix_(ind1,ind2u)]=-self.Bd\n",
    "        \n",
    "        self.A_qp=np.hstack((A_combined1,A_combined2))\n",
    "#         self.b_qp[self.ind*Ns]=self.PY\n",
    "        \n",
    "        # boundary constraints\n",
    "        self.bnd_Y=np.arange(Np+1)*Ns\n",
    "        \n",
    "        # weights\n",
    "        Q_w=np.tile(self.Q,(1,Np+1))\n",
    "        R_w=np.tile(self.R,(1,Np))\n",
    "        \n",
    "        self.Q_qp=np.diag(np.hstack((Q_w,R_w))[0])\n",
    "        \n",
    "    #========================================================    \n",
    "    def generate(self):\n",
    "        Np=self.Np\n",
    "        Ns=self.Ns\n",
    "        Nc=self.Nc\n",
    "#         w_ay=self.R[0]\n",
    "        w_ay=1e4\n",
    "    \n",
    "        x=cp.Variable((Ns,Np+1))\n",
    "        u=cp.Variable((Nc,Np))\n",
    "        \n",
    "        cost=cp.norm(x[1,:])+w_ay*cp.norm(u)\n",
    "        \n",
    "        constr=[]\n",
    "        \n",
    "        constr+=[x[0,self.ind]==self.PY]\n",
    "        constr+=[x[0,:]>=-np.ones(Np+1)*self.WR, \n",
    "                x[0,:]<=np.ones(Np+1)*self.WL]\n",
    "        \n",
    "        for t in range(Np):\n",
    "            constr+=[x[:,t+1]==self.Ad@x[:,t]+self.Bd@u[:,t]]\n",
    "        \n",
    "        problem=cp.Problem(cp.Minimize(cost),constr)\n",
    "        problem.solve()\n",
    "        \n",
    "        path.Y=x[0,:].value\n",
    "        path.Vx=x[1,:].value\n",
    "        path.ay=u.value\n",
    "    \n",
    "    #==============================================================\n",
    "    def generate_qp(self):\n",
    "        Np=self.Np\n",
    "        Ns=self.Ns\n",
    "        Nc=self.Nc\n",
    "        \n",
    "        x=cp.Variable((Np+1)*Ns+Np*Nc)\n",
    "        \n",
    "        ind_Y=np.arange(Np+1)*Ns\n",
    "        ind_Vy=1+np.arange(Np+1)*Ns\n",
    "        ind_ay=(Np+1)*Ns+np.arange(Np)*Nc\n",
    "        w_ay=self.R[0]\n",
    "        \n",
    "        cost=cp.norm(x[ind_Vy])+w_ay*cp.norm(x[ind_ay])\n",
    "        \n",
    "#         objective=cp.Minimize(\n",
    "#             x@self.Q_qp@x\n",
    "#         )\n",
    "        \n",
    "        constraints=[]\n",
    "        constraints+=[self.A_qp@x==np.zeros((Np+1)*Ns+Np*Nc)]\n",
    "        constraints+=\n",
    "\n",
    "        \n",
    "        prob=cp.Problem(cp.Minimize(cost),constraints)\n",
    "        prob.solve()\n",
    "        \n",
    "        path.Y=x[ind_Y].value\n",
    "        path.Vy=x[ind_Vy].value\n",
    "        path.ay=x[ind_ay].value"
   ]
  },
  {
   "cell_type": "code",
   "execution_count": 47,
   "metadata": {},
   "outputs": [
    {
     "name": "stdout",
     "output_type": "stream",
     "text": [
      "0.11535120010375977\n"
     ]
    }
   ],
   "source": [
    "F=np.array([0.65,0.5])\n",
    "P=np.array([0,-0.8,0.9,-0.8])\n",
    "track=build_track(F)\n",
    "path=build_path(F,P,track)\n",
    "\n",
    "\n",
    "start=time.time()\n",
    "for i in range(10):\n",
    "    path.generate_qp()\n",
    "\n",
    "end=time.time()\n",
    "\n",
    "print(end-start)"
   ]
  },
  {
   "cell_type": "code",
   "execution_count": 66,
   "metadata": {},
   "outputs": [],
   "source": [
    "a=path.b_qp[np.arange(path.Np+1)*path.Ns]"
   ]
  },
  {
   "cell_type": "code",
   "execution_count": 67,
   "metadata": {},
   "outputs": [
    {
     "data": {
      "text/plain": [
       "(-0.7325, 1.0825, -0.11000000000000001, 0.11000000000000001)"
      ]
     },
     "execution_count": 67,
     "metadata": {},
     "output_type": "execute_result"
    },
    {
     "data": {
      "image/png": "[encoded data removed]",
      "text/plain": [
       "<Figure size 432x288 with 1 Axes>"
      ]
     },
     "metadata": {
      "needs_background": "light"
     },
     "output_type": "display_data"
    }
   ],
   "source": [
    "f=plt.figure()\n",
    "\n",
    "plt.plot(track.Center_X,track.Center_Y,'b--')\n",
    "plt.plot(track.Left_X,track.Left_Y,'b')\n",
    "plt.plot(track.Right_X,track.Right_Y,'b')\n",
    "plt.plot(path.X,path.Y,'k')\n",
    "# plt.plot(path.PX,path.PY,'ro')\n",
    "plt.plot(path.X,a,'ro')\n",
    "\n",
    "plt.axis('equal')"
   ]
  },
  {
   "cell_type": "code",
   "execution_count": null,
   "metadata": {},
   "outputs": [],
   "source": [
    "\n"
   ]
  }
 ],
 "metadata": {
  "kernelspec": {
   "display_name": "Python 3",
   "language": "python",
   "name": "python3"
  },
  "language_info": {
   "codemirror_mode": {
    "name": "ipython",
    "version": 3
   },
   "file_extension": ".py",
   "mimetype": "text/x-python",
   "name": "python",
   "nbconvert_exporter": "python",
   "pygments_lexer": "ipython3",
   "version": "3.8.6"
  }
 },
 "nbformat": 4,
 "nbformat_minor": 4
}
