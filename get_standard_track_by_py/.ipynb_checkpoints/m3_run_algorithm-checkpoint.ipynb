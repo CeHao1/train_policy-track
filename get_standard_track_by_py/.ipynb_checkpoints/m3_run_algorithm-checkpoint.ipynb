{
 "cells": [
  {
   "cell_type": "markdown",
   "metadata": {},
   "source": [
    "## Run all blocks together\n",
    "1. Build a series of track and connect them\n",
    "2. Plan path with specific policy\n",
    "3. Plan velocity"
   ]
  },
  {
   "cell_type": "code",
   "execution_count": 75,
   "metadata": {},
   "outputs": [],
   "source": [
    "import numpy as np\n",
    "import cvxpy as cp\n",
    "from scipy.interpolate import CubicSpline\n",
    "import scipy.integrate as integrate\n",
    "\n",
    "import matplotlib.pyplot as plt\n",
    "%matplotlib inline"
   ]
  },
  {
   "cell_type": "markdown",
   "metadata": {},
   "source": [
    "## build real track and rotate them"
   ]
  },
  {
   "cell_type": "code",
   "execution_count": 148,
   "metadata": {},
   "outputs": [],
   "source": [
    "class build_real_track:\n",
    "    \n",
    "    def __init__(self,W,kap_max,F,Len,psi_init = 0,pos_init = [0,0]):\n",
    "        F1=F[0]\n",
    "        F2=F[1]\n",
    "        self.W = W\n",
    "        self.kap_max = kap_max\n",
    "        self.F = F\n",
    "        self.Len = Len\n",
    "        \n",
    "        PX=[0,F2,1]\n",
    "        PY=[0,kap_max,0]\n",
    "        kap_intp = CubicSpline(PX,PY,bc_type=((1,0),(1,0)))\n",
    "        xx=np.linspace(0,1,100)\n",
    "        yy=kap_intp(xx)\n",
    "        \n",
    "        psi=integrate.cumtrapz(yy,xx*Len, initial=0)\n",
    "    \n",
    "        X = integrate.cumtrapz(np.cos(psi), xx*Len, initial=0)\n",
    "        Y = integrate.cumtrapz(np.sin(psi), xx*Len, initial=0)\n",
    "        [X_Left,Y_Left] = self.bias(X,Y,psi,W)\n",
    "        [X_Right,Y_Right] = self.bias(X,Y,psi,-W)\n",
    "        \n",
    "        X_negative = np.linspace(-F1 * Len,0,100)\n",
    "        X_positive = np.linspace(0, F1*Len, 100)\n",
    "        Y_negative = np.zeros(100)\n",
    "        \n",
    "        self.S = np.hstack((X_positive[:-1], xx * Len +X_positive[-1]))\n",
    "        Center_X = np.hstack((X_negative[:-1],X))\n",
    "        Center_Y = np.hstack((Y_negative[:-1],Y))\n",
    "        Left_X = np.hstack((X_negative[:-1],X_Left))\n",
    "        Left_Y = np.hstack((Y_negative[:-1]+W,Y_Left))\n",
    "        Right_X = np.hstack((X_negative[:-1],X_Right))\n",
    "        Right_Y = np.hstack((Y_negative[:-1]-W,Y_Right))\n",
    "        psi = np.hstack((Y_negative[:-1],psi))\n",
    "        \n",
    "        \n",
    "        self.init_Center = [Center_X[0], Center_Y[0]]\n",
    "        \n",
    "        [self.Center_X, self.Center_Y] = self.rotate(psi_init, pos_init, Center_X, Center_Y)\n",
    "        [self.Left_X , self.Left_Y] = self.rotate(psi_init, pos_init, Left_X, Left_Y)\n",
    "        [self.Right_X, self.Right_Y] = self.rotate(psi_init, pos_init, Right_X, Right_Y)\n",
    "        self.psi = np.unwrap(psi + psi_init)\n",
    "        \n",
    "        \n",
    "    def bias(self,X,Y,psi,W):\n",
    "        X2 = X - W * np.sin(psi)\n",
    "        Y2 = Y + W * np.cos(psi)\n",
    "        return X2,Y2\n",
    "     \n",
    "    def rotate(self,angle,pos, X, Y):\n",
    "        X2 = np.cos(angle)*X - np.sin(angle)*Y + pos[0] - self.init_Center[0]\n",
    "        Y2 = np.cos(angle)*Y + np.sin(angle)*X + pos[1] - self.init_Center[1]\n",
    "        return X2,Y2\n",
    "\n",
    "    def plot(self):\n",
    "        plt.figure()\n",
    "        plt.plot(self.Center_X,self.Center_Y,'k')\n",
    "        plt.plot(self.Left_X,self.Left_Y,'b--')\n",
    "        plt.plot(self.Right_X,self.Right_Y,'r--')\n",
    "        \n",
    "        plt.axis('equal')\n",
    "        plt.show()\n",
    "    \n",
    "    def plot2(self):\n",
    "        \n",
    "        plt.plot(self.Center_X,self.Center_Y,'k')\n",
    "        plt.plot(self.Left_X,self.Left_Y,'b--')\n",
    "        plt.plot(self.Right_X,self.Right_Y,'r--')\n",
    "    \n",
    "    "
   ]
  },
  {
   "cell_type": "code",
   "execution_count": 149,
   "metadata": {},
   "outputs": [],
   "source": [
    "track_param= {\n",
    "    'num' : 4,\n",
    "    'W' : np.array([3.5,3.5,3.5,3.5]),\n",
    "    'kap_max' : np.array([0.01,0.015,0.02,0.05]),\n",
    "    'F' : np.array([[0.5,0.3],[0.4,0.4],[0.2,0.6],[0.3,0.7]]),\n",
    "    'Len' : np.array([50,60,70,80])\n",
    "}\n"
   ]
  },
  {
   "cell_type": "code",
   "execution_count": 150,
   "metadata": {},
   "outputs": [
    {
     "data": {
      "image/png": "[encoded data removed]",
      "text/plain": [
       "<Figure size 432x288 with 1 Axes>"
      ]
     },
     "metadata": {
      "needs_background": "light"
     },
     "output_type": "display_data"
    }
   ],
   "source": [
    "track = {}\n",
    "for i in range(track_param['num']):\n",
    "    if i > 0:\n",
    "        psi_init = track[i-1].psi[-1]\n",
    "        pos_init = [track[i-1].Center_X[-1], track[i-1].Center_Y[-1]]\n",
    "    else:\n",
    "        psi_init, pos_init = 0, [0,0]\n",
    "           \n",
    "    track[i] = build_real_track(W = track_param['W'][i], kap_max =track_param['kap_max'][i], \n",
    "                                F =track_param['F'][i] ,Len =track_param['Len'][i],\n",
    "                                psi_init = psi_init, pos_init = pos_init)\n",
    "    \n",
    "    track[i].plot2()"
   ]
  },
  {
   "cell_type": "code",
   "execution_count": null,
   "metadata": {},
   "outputs": [],
   "source": []
  }
 ],
 "metadata": {
  "kernelspec": {
   "display_name": "Python 3",
   "language": "python",
   "name": "python3"
  },
  "language_info": {
   "codemirror_mode": {
    "name": "ipython",
    "version": 3
   },
   "file_extension": ".py",
   "mimetype": "text/x-python",
   "name": "python",
   "nbconvert_exporter": "python",
   "pygments_lexer": "ipython3",
   "version": "3.8.6"
  }
 },
 "nbformat": 4,
 "nbformat_minor": 4
}
