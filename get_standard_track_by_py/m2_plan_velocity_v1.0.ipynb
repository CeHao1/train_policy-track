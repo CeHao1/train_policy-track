{
 "cells": [
  {
   "cell_type": "code",
   "execution_count": 204,
   "metadata": {},
   "outputs": [],
   "source": [
    "import numpy as np\n",
    "from csaps import csaps\n",
    "from scipy.interpolate import CubicSpline\n",
    "import scipy.integrate as integrate\n",
    "import matplotlib.pyplot as plt\n",
    "\n",
    "%matplotlib inline"
   ]
  },
  {
   "cell_type": "code",
   "execution_count": 167,
   "metadata": {},
   "outputs": [],
   "source": [
    "# load data\n",
    "# ind_F=0\n",
    "# P_start=0\n",
    "# P_end=1\n",
    "\n",
    "name='F_0_P_0_to_160000.npy'\n",
    "path='/home/jovyan/work/sv_data/'\n",
    "\n",
    "data=np.load(path+name,allow_pickle=True)\n",
    "path1 = data[157730]"
   ]
  },
  {
   "cell_type": "code",
   "execution_count": 232,
   "metadata": {},
   "outputs": [],
   "source": [
    "class build_real_track:\n",
    "    \n",
    "    def __init__(self,W,kap_max,F,Len):\n",
    "        F1=F[0]\n",
    "        F2=F[1]\n",
    "        self.W = W\n",
    "        self.kap_max = kap_max\n",
    "        self.F = F\n",
    "        self.Len = Len\n",
    "        \n",
    "        PX=[0,F2,1]\n",
    "        PY=[0,kap_max,0]\n",
    "        kap_intp = CubicSpline(PX,PY,bc_type=((1,0),(1,0)))\n",
    "        xx=np.linspace(0,1,100)\n",
    "        yy=kap_intp(xx)\n",
    "        \n",
    "        psi=integrate.cumtrapz(yy,xx*Len, initial=0)\n",
    "    \n",
    "        X = integrate.cumtrapz(np.cos(psi), xx*Len, initial=0)\n",
    "        Y = integrate.cumtrapz(np.sin(psi), xx*Len, initial=0)\n",
    "        [X_Left,Y_Left] = self.bias(X,Y,psi,W)\n",
    "        [X_Right,Y_Right] = self.bias(X,Y,psi,-W)\n",
    "        \n",
    "        X_negative = np.linspace(-F1 * Len,0,100)\n",
    "        X_positive = np.linspace(0, F1*Len, 100)\n",
    "        Y_negative = np.zeros(100)\n",
    "        \n",
    "        \n",
    "        self.S = np.hstack((X_positive[:-1], xx * Len +X_positive[-1]))\n",
    "        self.Center_X = np.hstack((X_negative[:-1],X))\n",
    "        self.Center_Y = np.hstack((Y_negative[:-1],Y))\n",
    "        self.Left_X = np.hstack((X_negative[:-1],X_Left))\n",
    "        self.Left_Y = np.hstack((Y_negative[:-1]+W,Y_Left))\n",
    "        self.Right_X = np.hstack((X_negative[:-1],X_Right))\n",
    "        self.Right_Y = np.hstack((Y_negative[:-1]-W,Y_Right))\n",
    "        self.psi = np.hstack((Y_negative[:-1],psi))\n",
    "#         self.plot()\n",
    "        \n",
    "    def bias(self,X,Y,psi,W):\n",
    "        X2 = X - W * np.sin(psi)\n",
    "        Y2 = Y + W * np.cos(psi)\n",
    "        \n",
    "        return X2,Y2\n",
    "        \n",
    "    def plot(self):\n",
    "        plt.figure()\n",
    "        plt.plot(self.Center_X,self.Center_Y,'k')\n",
    "        plt.plot(self.Left_X,self.Left_Y,'b--')\n",
    "        plt.plot(self.Right_X,self.Right_Y,'r--')\n",
    "        \n",
    "        plt.axis('equal')\n",
    "        plt.show()\n",
    "    \n",
    "    "
   ]
  },
  {
   "cell_type": "code",
   "execution_count": 354,
   "metadata": {},
   "outputs": [],
   "source": [
    "class build_real_path:\n",
    "    \n",
    "    def retrive_standard_path(self,F,P,path):\n",
    "        F1=F[0]\n",
    "        F2=F[1]\n",
    "        \n",
    "        self.S_std = np.linspace(0,1+F1,path.shape[0])\n",
    "        self.X_std = np.linspace(-F1,1,path.shape[0])\n",
    "        self.Y_std = path\n",
    "    \n",
    "    def retrive_real_path(self,T):\n",
    "        self.T = T  \n",
    "        s_extend = self.S_std * T.Len\n",
    "        Y_extend = self.Y_std * T.W * 10\n",
    "        \n",
    "        T_X_intp = CubicSpline(T.S,T.Center_X)\n",
    "        T_Y_intp = CubicSpline(T.S,T.Center_Y)\n",
    "        T_psi_intp = CubicSpline(T.S,T.psi)\n",
    "        \n",
    "        T_X = T_X_intp(s_extend)\n",
    "        T_Y = T_Y_intp(s_extend)\n",
    "        T_psi = T_psi_intp(s_extend)\n",
    "        \n",
    "        [self.X, self.Y] = self.bias(T_X,T_Y,T_psi,Y_extend)\n",
    "        self.S = s_extend\n",
    "        \n",
    "\n",
    "    def bias(self,X,Y,psi,W):\n",
    "        X2 = X - W * np.sin(psi)\n",
    "        Y2 = Y + W * np.cos(psi)\n",
    "        return X2,Y2\n",
    "        \n",
    "    def get_kap(self):\n",
    "        arr = np.linspace(0,self.X.shape[0],self.X.shape[0])\n",
    "        X_intp = CubicSpline(arr,self.X)\n",
    "        Y_intp = CubicSpline(arr,self.Y)\n",
    "        \n",
    "        X = X_intp(arr)\n",
    "        Y = Y_intp(arr)\n",
    "        dX = X_intp(arr,1)\n",
    "        dY = Y_intp(arr,1)\n",
    "        d2X = X_intp(arr,2)\n",
    "        d2Y = Y_intp(arr,2)\n",
    "        \n",
    "        self.ds = np.sqrt(dX**2+dY**2)\n",
    "        self.psi = np.arctan2(dY,dX)\n",
    "        self.kap = (dX*d2Y-dY*d2X)/(dX**2+dY**2)**1.5\n",
    "        \n",
    "#         s2 = integrate.cumtrapz(self.ds,initial=0)\n",
    "    \n",
    "    def get_velocity(self, V_init, ay_max, ax_max, ax_min):\n",
    "        \n",
    "        kap = np.abs(self.kap) + 1.0e-10\n",
    "        ds = self.ds\n",
    "        num = kap.shape[0]\n",
    "        V0 = np.ones(num) * 1.0\n",
    "        V1 = np.empty(num)\n",
    "        V2 = np.empty(num)\n",
    "        \n",
    "        # rest of ay\n",
    "        ay_rest = np.sqrt(ay_max**2 - V0**2*kap)\n",
    "        \n",
    "        # maximum of V\n",
    "        V_max = np.sqrt(ay_rest/kap)\n",
    "        \n",
    "        # forward\n",
    "        V1[0] = V_init\n",
    "        for i in range(num-1):\n",
    "            V1[i+1] = min(V_max[i+1] , np.sqrt(2*ax_max*ds[i] + V1[i]**2))\n",
    "            \n",
    "        # backward\n",
    "        V2[-1] = V_max[-1]\n",
    "        for i in range(num-1,0,-1):\n",
    "            V2[i-1] = min(V_max[i-1] , np.sqrt(-2*ax_min*ds[i-1] + V2[i]**2))\n",
    "        \n",
    "        V_m = np.amin(np.vstack((V1,V2)),axis=0)\n",
    "        \n",
    "        \n",
    "        plt.figure()\n",
    "        plt.plot(V_max,'k')\n",
    "        plt.plot(V1,'b')\n",
    "        plt.plot(V)\n",
    "    \n",
    "    def plot(self):\n",
    "        \n",
    "        plt.figure(figsize=(15,15))\n",
    "        plt.plot(self.T.Center_X,self.T.Center_Y,'k--')\n",
    "        plt.plot(self.T.Left_X,self.T.Left_Y,'b--')\n",
    "        plt.plot(self.T.Right_X,self.T.Right_Y,'r--')\n",
    "        \n",
    "        plt.plot(self.X,self.Y)\n",
    "        \n",
    "        plt.axis('equal')\n",
    "        plt.show()"
   ]
  },
  {
   "cell_type": "code",
   "execution_count": 355,
   "metadata": {},
   "outputs": [
    {
     "data": {
      "image/png": "[encoded data removed]",
      "text/plain": [
       "<Figure size 432x288 with 1 Axes>"
      ]
     },
     "metadata": {
      "needs_background": "light"
     },
     "output_type": "display_data"
    },
    {
     "data": {
      "image/png": "[encoded data removed]",
      "text/plain": [
       "<Figure size 432x288 with 1 Axes>"
      ]
     },
     "metadata": {
      "needs_background": "light"
     },
     "output_type": "display_data"
    }
   ],
   "source": [
    "track=build_real_track(W=3.5,kap_max=0.01,F=path1['F'],Len=50)\n",
    "\n",
    "real_path = build_real_path()\n",
    "real_path.retrive_standard_path(F=path1['F'], P=path1['P'], path=path1['path'])\n",
    "real_path.retrive_real_path(track)\n",
    "real_path.get_kap()\n",
    "real_path.get_velocity(V_init=5, ay_max=1.3, ax_max=5.0, ax_min=-10.0)\n",
    "# \n",
    "# real_path.plot()"
   ]
  },
  {
   "cell_type": "code",
   "execution_count": 325,
   "metadata": {},
   "outputs": [
    {
     "name": "stdout",
     "output_type": "stream",
     "text": [
      "5\n",
      "4\n",
      "3\n",
      "2\n"
     ]
    }
   ],
   "source": [
    "for i in range(5,1,-1):\n",
    "    print(i)"
   ]
  },
  {
   "cell_type": "code",
   "execution_count": null,
   "metadata": {},
   "outputs": [],
   "source": []
  }
 ],
 "metadata": {
  "kernelspec": {
   "display_name": "Python 3",
   "language": "python",
   "name": "python3"
  },
  "language_info": {
   "codemirror_mode": {
    "name": "ipython",
    "version": 3
   },
   "file_extension": ".py",
   "mimetype": "text/x-python",
   "name": "python",
   "nbconvert_exporter": "python",
   "pygments_lexer": "ipython3",
   "version": "3.8.6"
  }
 },
 "nbformat": 4,
 "nbformat_minor": 4
}
