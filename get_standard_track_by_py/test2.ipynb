{
 "cells": [
  {
   "cell_type": "code",
   "execution_count": 1,
   "metadata": {},
   "outputs": [],
   "source": [
    "import numpy as np\n",
    "import cvxpy as cp\n",
    "import matplotlib.pyplot as plt\n",
    "import time\n",
    "\n",
    "from scipy.sparse import csr_matrix\n",
    "from cvxopt.solvers import qp\n",
    "from cvxopt import spmatrix, matrix, solvers\n",
    "\n",
    "%matplotlib inline"
   ]
  },
  {
   "cell_type": "code",
   "execution_count": 2,
   "metadata": {},
   "outputs": [],
   "source": [
    "class build_track:\n",
    "    def __init__(self,F):\n",
    "        num=200\n",
    "        F1=F[0]\n",
    "        F2=F[1]\n",
    "        self.Center_X=np.linspace(-F1,1,num)\n",
    "        self.Center_Y=np.linspace(0,0,num)\n",
    "        \n",
    "        self.WL=0.1\n",
    "        self.WR=0.1\n",
    "        \n",
    "        self.Left_X=self.Center_X\n",
    "        self.Left_Y=np.linspace(1,1,num)*self.WL\n",
    "        \n",
    "        self.Right_X=self.Center_X\n",
    "        self.Right_Y=np.linspace(-1,-1,num)*self.WR\n",
    "        "
   ]
  },
  {
   "cell_type": "code",
   "execution_count": 103,
   "metadata": {},
   "outputs": [],
   "source": [
    "class build_path:\n",
    "    def __init__(self,F,P,T):\n",
    "        F1=F[0]\n",
    "        F2=F[1]\n",
    "        self.PX=np.array([-F1,0,F2,1])\n",
    "        self.PY=P*T.WL\n",
    "        self.S=np.array([0,F1,F1+F2,F1+1])\n",
    "        self.WL=T.WL\n",
    "        self.WR=T.WR\n",
    "\n",
    "        self.len=F1+1\n",
    "        self.Vx=0.01\n",
    "        self.Np=int(np.floor(self.len/self.Vx))+1\n",
    "        self.Ns=2\n",
    "        self.Nc=1\n",
    "        Np=self.Np\n",
    "        Ns=self.Ns\n",
    "        Nc=self.Nc\n",
    "        \n",
    "        self.ind_Y=np.arange(Np)*Ns\n",
    "        self.ind_Vy=1+np.arange(Np)*Ns\n",
    "        self.ind_ay=Np*Ns+np.arange(Np-1)*Nc\n",
    "        \n",
    "        self.X=np.linspace(-F1,1,Np)\n",
    "\n",
    "        # parameters of constraints\n",
    "        self.Q=np.array([0,1])\n",
    "        self.R=np.array([100.0])\n",
    "        ind=np.floor(self.S/self.Vx)\n",
    "        self.ind=np.array([int(i) for i in ind])\n",
    "\n",
    "#          # ***********build sequential state space A_qp*x=b_qp******\n",
    "        self.Ac=np.array([[0,1],[0,0] ])\n",
    "        self.Bc=np.array([[0],[1]])\n",
    "        self.Ad=np.eye(Ns)+self.Ac\n",
    "        self.Bd=self.Bc\n",
    "\n",
    "        # dynamics model      \n",
    "        A_combined1=np.zeros(((Np-1)*Ns,Np*Ns))\n",
    "        A_combined2=np.zeros(((Np-1)*Ns,(Np-1)*Nc))\n",
    "        \n",
    "        for index in range(Np-1):\n",
    "            ind1=index*Ns+np.arange(Ns)\n",
    "            ind2x=index*Ns+np.arange(Ns)\n",
    "            ind2I=ind2x+Ns\n",
    "            ind2u=index*Nc+np.arange(Nc)\n",
    "            \n",
    "            A_combined1[np.ix_(ind1,ind2I)]=np.eye(Ns)\n",
    "            A_combined1[np.ix_(ind1,ind2x)]=-self.Ad\n",
    "            A_combined2[np.ix_(ind1,ind2u)]=-self.Bd\n",
    "            \n",
    "        self.A_qp=np.hstack((A_combined1,A_combined2))\n",
    "        self.b_qp=np.zeros(((Np-1)*Ns))\n",
    "        \n",
    "        # bnd\n",
    "        Gx=csr_matrix((np.ones(Np),(np.arange(Np),self.ind_Y)),\n",
    "                     shape=(Np,Np*Ns+(Np-1)*Nc)).toarray()\n",
    "        self.G_qp=np.vstack((Gx,-Gx))\n",
    "        \n",
    "#         self.G_sparse = spmatrix(G_qp[np.nonzero(G_qp)], np.nonzero(G_qp)[0].astype(int),\n",
    "#                             np.nonzero(G_qp)[1].astype(int), G_qp.shape)\n",
    "\n",
    "        hx=np.ones((Np,1))*self.WL\n",
    "        self.h_qp=np.vstack((hx,hx))\n",
    "#         self.h_m=matrix(h_qp)\n",
    "        \n",
    "        \n",
    "        # Q P\n",
    "        \n",
    "        Q_w=np.tile(self.Q,(1,Np))\n",
    "        R_w=np.tile(self.R,(1,Np-1))\n",
    "        \n",
    "        self.Q_qp=np.diag(np.hstack((Q_w,R_w))[0])\n",
    "        self.P_qp=np.zeros((self.Q_qp.shape[0],1))\n",
    "        \n",
    "#         self.Q_sparse = spmatrix(Q_qp[np.nonzero(Q_qp)], np.nonzero(Q_qp)[0].astype(int), \n",
    "#                             np.nonzero(Q_qp)[1].astype(int), Q_qp.shape)\n",
    "        \n",
    "        \n",
    "#         self.P_m=matrix(P_qp)\n",
    "                             \n",
    "    def generate_qp(self):\n",
    "        \n",
    "        Np=self.Np\n",
    "        Ns=self.Ns\n",
    "        Nc=self.Nc\n",
    "        \n",
    "        num_PY=self.PY.shape[0]\n",
    "\n",
    "       \n",
    "        Ax=csr_matrix((np.ones(num_PY),(np.arange(num_PY),self.ind*Ns)),\n",
    "                     shape=(num_PY,(Np)*Ns+(Np-1)*Nc)).toarray()\n",
    "            \n",
    "        bx=self.PY\n",
    "        \n",
    "\n",
    "#         A_added=np.vstack((Ax,self.A_qp))\n",
    "#         b_added=np.hstack((bx,self.b_qp))\n",
    "    \n",
    "\n",
    "        x=cp.Variable((Np*Ns+(Np-1)*Nc))\n",
    "        cost=cp.quad_form(x,self.Q_qp)\n",
    "                      \n",
    "        constraints=[]\n",
    "        constraints+=[self.A_qp@x==self.b_qp]\n",
    "        constraints+=[Ax@x==self.PY]\n",
    "\n",
    "#         constraints+=[A_added@x==b_added]\n",
    "        \n",
    "        prob=cp.Problem(cp.Minimize(cost),constraints)\n",
    "        prob.solve()\n",
    "        \n",
    "     \n",
    "        path.Y=x[self.ind_Y].value\n",
    "        path.Vy=x[self.ind_Vy].value\n",
    "        path.ay=x[self.ind_ay].value\n",
    "        \n",
    "        "
   ]
  },
  {
   "cell_type": "code",
   "execution_count": 112,
   "metadata": {},
   "outputs": [
    {
     "name": "stdout",
     "output_type": "stream",
     "text": [
      "113.7266628742218\n"
     ]
    }
   ],
   "source": [
    "F=np.array([0.5,0.5])\n",
    "P=np.array([0.5,-0.95,0.95,-0.85])\n",
    "track=build_track(F)\n",
    "path=build_path(F,P,track)\n",
    "\n",
    "times=1000\n",
    "start=time.time()\n",
    "for i in range(times):\n",
    "#     path.generate()\n",
    "    path.generate_qp()\n",
    "\n",
    "end=time.time()\n",
    "\n",
    "print((end-start))"
   ]
  },
  {
   "cell_type": "code",
   "execution_count": 107,
   "metadata": {},
   "outputs": [
    {
     "data": {
      "text/plain": [
       "0.095"
      ]
     },
     "execution_count": 107,
     "metadata": {},
     "output_type": "execute_result"
    },
    {
     "data": {
      "image/png": "[encoded data removed]",
      "text/plain": [
       "<Figure size 432x288 with 1 Axes>"
      ]
     },
     "metadata": {
      "needs_background": "light"
     },
     "output_type": "display_data"
    }
   ],
   "source": [
    "f=plt.figure()\n",
    "\n",
    "plt.plot(track.Center_X,track.Center_Y,'b--')\n",
    "plt.plot(track.Left_X,track.Left_Y,'b')\n",
    "plt.plot(track.Right_X,track.Right_Y,'b')\n",
    "plt.plot(path.X,path.Y,'k')\n",
    "plt.plot(path.PX,path.PY,'ro')\n",
    "\n",
    "plt.axis('equal')\n",
    "\n",
    "np.max(np.abs(path.PY))"
   ]
  },
  {
   "cell_type": "code",
   "execution_count": 57,
   "metadata": {},
   "outputs": [
    {
     "data": {
      "text/plain": [
       "[<matplotlib.lines.Line2D at 0x7f4240dd1820>]"
      ]
     },
     "execution_count": 57,
     "metadata": {},
     "output_type": "execute_result"
    },
    {
     "data": {
      "image/png": "[encoded data removed]",
      "text/plain": [
       "<Figure size 720x432 with 2 Axes>"
      ]
     },
     "metadata": {
      "needs_background": "light"
     },
     "output_type": "display_data"
    }
   ],
   "source": [
    "f2=plt.figure(figsize=(10,6))\n",
    "plt.subplot(1,2,1)\n",
    "plt.plot(path.Vy)\n",
    "\n",
    "plt.subplot(1,2,2)\n",
    "plt.plot(path.ay)"
   ]
  },
  {
   "cell_type": "code",
   "execution_count": null,
   "metadata": {},
   "outputs": [],
   "source": []
  }
 ],
 "metadata": {
  "kernelspec": {
   "display_name": "Python 3",
   "language": "python",
   "name": "python3"
  },
  "language_info": {
   "codemirror_mode": {
    "name": "ipython",
    "version": 3
   },
   "file_extension": ".py",
   "mimetype": "text/x-python",
   "name": "python",
   "nbconvert_exporter": "python",
   "pygments_lexer": "ipython3",
   "version": "3.8.6"
  }
 },
 "nbformat": 4,
 "nbformat_minor": 4
}
