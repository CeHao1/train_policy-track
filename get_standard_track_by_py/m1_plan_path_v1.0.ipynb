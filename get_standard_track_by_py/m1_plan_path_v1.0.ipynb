{
 "cells": [
  {
   "cell_type": "code",
   "execution_count": 16,
   "metadata": {},
   "outputs": [],
   "source": [
    "import numpy as np\n",
    "import cvxpy as cp\n",
    "import matplotlib.pyplot as plt\n",
    "import time\n",
    "from tqdm import tqdm\n",
    "from scipy.sparse import csr_matrix\n",
    "\n",
    "%matplotlib inline"
   ]
  },
  {
   "cell_type": "code",
   "execution_count": 17,
   "metadata": {},
   "outputs": [],
   "source": [
    "class build_track:\n",
    "    def __init__(self,F):\n",
    "        num=200\n",
    "        F1=F[0]\n",
    "        F2=F[1]\n",
    "        self.Center_X=np.linspace(-F1,1,num)\n",
    "        self.Center_Y=np.linspace(0,0,num)\n",
    "        \n",
    "        self.WL=0.1\n",
    "        self.WR=0.1\n",
    "        \n",
    "        self.Left_X=self.Center_X\n",
    "        self.Left_Y=np.linspace(1,1,num)*self.WL\n",
    "        \n",
    "        self.Right_X=self.Center_X\n",
    "        self.Right_Y=np.linspace(-1,-1,num)*self.WR\n",
    "        "
   ]
  },
  {
   "cell_type": "code",
   "execution_count": 18,
   "metadata": {},
   "outputs": [],
   "source": [
    "class build_path:\n",
    "    def __init__(self,F,P,T):\n",
    "        F1=F[0]\n",
    "        F2=F[1]\n",
    "        self.PX=np.array([-F1,0,F2,1])\n",
    "        self.PY=P*T.WL\n",
    "        self.S=np.array([0,F1,F1+F2,F1+1])\n",
    "        self.WL=T.WL\n",
    "        self.WR=T.WR\n",
    "        self.track=T\n",
    "\n",
    "        self.len=F1+1\n",
    "        self.Vx=0.01\n",
    "        self.Np=int(np.floor(self.len/self.Vx))+1\n",
    "        self.Ns=2\n",
    "        self.Nc=1\n",
    "        Np=self.Np\n",
    "        Ns=self.Ns\n",
    "        Nc=self.Nc\n",
    "        \n",
    "        self.ind_Y=np.arange(Np)*Ns\n",
    "        self.ind_Vy=1+np.arange(Np)*Ns\n",
    "        self.ind_ay=Np*Ns+np.arange(Np-1)*Nc\n",
    "        \n",
    "        self.X=np.linspace(-F1,1,Np)\n",
    "\n",
    "        # parameters of constraints\n",
    "        self.Q=np.array([0,1])\n",
    "        self.R=np.array([100.0])\n",
    "        ind=np.floor(self.S/self.Vx)\n",
    "        self.ind=np.array([int(i) for i in ind])\n",
    "\n",
    "#          # ***********build sequential state space A_qp*x=b_qp******\n",
    "        self.Ac=np.array([[0,1],[0,0] ])\n",
    "        self.Bc=np.array([[0],[1]])\n",
    "        self.Ad=np.eye(Ns)+self.Ac\n",
    "        self.Bd=self.Bc\n",
    "\n",
    "        # dynamics model      \n",
    "        A_combined1=np.zeros(((Np-1)*Ns,Np*Ns))\n",
    "        A_combined2=np.zeros(((Np-1)*Ns,(Np-1)*Nc))\n",
    "        \n",
    "        for index in range(Np-1):\n",
    "            ind1=index*Ns+np.arange(Ns)\n",
    "            ind2x=index*Ns+np.arange(Ns)\n",
    "            ind2I=ind2x+Ns\n",
    "            ind2u=index*Nc+np.arange(Nc)\n",
    "            \n",
    "            A_combined1[np.ix_(ind1,ind2I)]=np.eye(Ns)\n",
    "            A_combined1[np.ix_(ind1,ind2x)]=-self.Ad\n",
    "            A_combined2[np.ix_(ind1,ind2u)]=-self.Bd\n",
    "            \n",
    "        self.A_qp=np.hstack((A_combined1,A_combined2))\n",
    "        self.b_qp=np.zeros(((Np-1)*Ns))\n",
    "        \n",
    "        # bnd\n",
    "        Gx=csr_matrix((np.ones(Np),(np.arange(Np),self.ind_Y)),\n",
    "                     shape=(Np,Np*Ns+(Np-1)*Nc)).toarray()\n",
    "        self.G_qp=np.vstack((Gx,-Gx))\n",
    "\n",
    "        hx=np.ones((Np,1))*self.WL\n",
    "        self.h_qp=np.vstack((hx,hx))\n",
    "\n",
    "        \n",
    "        Q_w=np.tile(self.Q,(1,Np))\n",
    "        R_w=np.tile(self.R,(1,Np-1))\n",
    "        \n",
    "        self.Q_qp=np.diag(np.hstack((Q_w,R_w))[0])\n",
    "        self.P_qp=np.zeros((self.Q_qp.shape[0],1))\n",
    "        \n",
    "                             \n",
    "    def generate(self):\n",
    "        \n",
    "        Np=self.Np\n",
    "        Ns=self.Ns\n",
    "        Nc=self.Nc\n",
    "        \n",
    "        num_PY=self.PY.shape[0]\n",
    "\n",
    "       \n",
    "        Ax=csr_matrix((np.ones(num_PY),(np.arange(num_PY),self.ind*Ns)),\n",
    "                     shape=(num_PY,(Np)*Ns+(Np-1)*Nc)).toarray()\n",
    "            \n",
    "        bx=self.PY\n",
    "        \n",
    "\n",
    "        x=cp.Variable((Np*Ns+(Np-1)*Nc))\n",
    "        cost=cp.quad_form(x,self.Q_qp)\n",
    "                      \n",
    "        constraints=[]\n",
    "        constraints+=[self.A_qp@x==self.b_qp]\n",
    "        constraints+=[Ax@x==self.PY]\n",
    "        \n",
    "        # initial & end angle ==0\n",
    "        constraints+=[x[self.ind_Vy[0]]==0]\n",
    "        constraints+=[x[self.ind_Vy[-1]]==0]\n",
    "        \n",
    "        # boundary\n",
    "        constraints+=[x[self.ind_Y]>=-np.ones(Np)*self.WR,\n",
    "                     x[self.ind_Y]<=np.ones(Np)*self.WL]\n",
    "        \n",
    "        prob=cp.Problem(cp.Minimize(cost),constraints)\n",
    "        prob.solve()\n",
    "        \n",
    "     \n",
    "        self.Y=x[self.ind_Y].value\n",
    "        self.Vy=x[self.ind_Vy].value\n",
    "        self.ay=x[self.ind_ay].value\n",
    "        \n",
    "        \n",
    "    def plot(self):\n",
    "        track=self.track\n",
    "        path=self\n",
    "\n",
    "        f=plt.figure()\n",
    "\n",
    "        plt.plot(track.Center_X,track.Center_Y,'b--')\n",
    "        plt.plot(track.Left_X,track.Left_Y,'b')\n",
    "        plt.plot(track.Right_X,track.Right_Y,'b')\n",
    "        plt.plot(path.X,path.Y,'k.')\n",
    "        plt.plot(path.PX,path.PY,'ro')\n",
    "\n",
    "        plt.axis('equal')\n",
    "\n",
    "        np.max(np.abs(path.PY))\n",
    "\n",
    "        f2=plt.figure(figsize=(10,6))\n",
    "        plt.subplot(1,2,1)\n",
    "        plt.plot(path.Vy)\n",
    "\n",
    "        plt.subplot(1,2,2)\n",
    "        plt.plot(path.ay)\n"
   ]
  },
  {
   "cell_type": "code",
   "execution_count": 23,
   "metadata": {},
   "outputs": [],
   "source": [
    "# F and P\n",
    "\n",
    "class build_feature:\n",
    "    \n",
    "    def __init__(self):\n",
    "        self.num_F=10\n",
    "        self.num_P=20\n",
    "        self.num_seg=3\n",
    "        self.bnd=0.1\n",
    "        self.total_num_F=self.num_F**(self.num_seg-1)\n",
    "        self.total_num_P=self.num_P**(self.num_seg+1)\n",
    "        \n",
    "        # build F shape tuple\n",
    "        self.size_F=()\n",
    "        for i in range(self.num_seg-1):\n",
    "            self.size_F+=(self.num_F,)\n",
    "        \n",
    "        # build P shape tuple\n",
    "        self.size_P=()\n",
    "        for i in range(self.num_seg+1):\n",
    "            self.size_P+=(self.num_P,);\n",
    "\n",
    "        # build F space\n",
    "        self.space_F=np.linspace(0+self.bnd,1-self.bnd,self.num_F)\n",
    "        \n",
    "        # build P space\n",
    "        self.space_P=np.linspace(-1,1,self.num_P)\n",
    "\n",
    "    def fetch_feature_F(self,ind_F):\n",
    "        \n",
    "        sub_F = np.array(list(np.unravel_index(ind_F,self.size_F)))\n",
    "        self.F = np.array([self.space_F[i] for i in sub_F])\n",
    "        \n",
    "    def fetch_feature_P(self,ind_P):\n",
    "        \n",
    "        sub_P = np.array(list(np.unravel_index(ind_P,self.size_P)))\n",
    "        self.P = np.array([self.space_P[i] for i in sub_P])"
   ]
  },
  {
   "cell_type": "code",
   "execution_count": 25,
   "metadata": {},
   "outputs": [
    {
     "name": "stdout",
     "output_type": "stream",
     "text": [
      "Input start index of F: 0\n",
      "Input end index of F, max is 100:1\n",
      "Input start index of P, default if 0: \n",
      "Input end index of P, max and default is 160000: \n"
     ]
    },
    {
     "name": "stderr",
     "output_type": "stream",
     "text": [
      "  0%|          | 1/160000 [00:00<5:46:50,  7.69it/s]"
     ]
    },
    {
     "name": "stdout",
     "output_type": "stream",
     "text": [
      "Current F is  0\n"
     ]
    },
    {
     "name": "stderr",
     "output_type": "stream",
     "text": [
      "  0%|          | 202/160000 [00:13<3:02:39, 14.58it/s]"
     ]
    },
    {
     "name": "stdout",
     "output_type": "stream",
     "text": [
      "Solver interrupted\n"
     ]
    },
    {
     "name": "stderr",
     "output_type": "stream",
     "text": [
      "\n"
     ]
    },
    {
     "ename": "ValueError",
     "evalue": "OSQP solve error!",
     "output_type": "error",
     "traceback": [
      "\u001b[0;31m---------------------------------------------------------------------------\u001b[0m",
      "\u001b[0;31mValueError\u001b[0m                                Traceback (most recent call last)",
      "\u001b[0;32m<ipython-input-25-4eba01ba87c0>\u001b[0m in \u001b[0;36m<module>\u001b[0;34m\u001b[0m\n\u001b[1;32m     24\u001b[0m         \u001b[0mfeature\u001b[0m\u001b[0;34m.\u001b[0m\u001b[0mfetch_feature_P\u001b[0m\u001b[0;34m(\u001b[0m\u001b[0mind_P\u001b[0m\u001b[0;34m)\u001b[0m\u001b[0;34m\u001b[0m\u001b[0;34m\u001b[0m\u001b[0m\n\u001b[1;32m     25\u001b[0m         \u001b[0mpath\u001b[0m\u001b[0;34m=\u001b[0m\u001b[0mbuild_path\u001b[0m\u001b[0;34m(\u001b[0m\u001b[0mfeature\u001b[0m\u001b[0;34m.\u001b[0m\u001b[0mF\u001b[0m\u001b[0;34m,\u001b[0m\u001b[0mfeature\u001b[0m\u001b[0;34m.\u001b[0m\u001b[0mP\u001b[0m\u001b[0;34m,\u001b[0m\u001b[0mtrack\u001b[0m\u001b[0;34m)\u001b[0m\u001b[0;34m\u001b[0m\u001b[0;34m\u001b[0m\u001b[0m\n\u001b[0;32m---> 26\u001b[0;31m         \u001b[0mpath\u001b[0m\u001b[0;34m.\u001b[0m\u001b[0mgenerate\u001b[0m\u001b[0;34m(\u001b[0m\u001b[0;34m)\u001b[0m\u001b[0;34m\u001b[0m\u001b[0;34m\u001b[0m\u001b[0m\n\u001b[0m\u001b[1;32m     27\u001b[0m \u001b[0;34m\u001b[0m\u001b[0m\n\u001b[1;32m     28\u001b[0m         \u001b[0mdata\u001b[0m\u001b[0;34m.\u001b[0m\u001b[0mappend\u001b[0m\u001b[0;34m(\u001b[0m\u001b[0;34m{\u001b[0m\u001b[0;34m'F'\u001b[0m\u001b[0;34m:\u001b[0m\u001b[0mfeature\u001b[0m\u001b[0;34m.\u001b[0m\u001b[0mF\u001b[0m\u001b[0;34m,\u001b[0m\u001b[0;34m'P'\u001b[0m\u001b[0;34m:\u001b[0m\u001b[0mfeature\u001b[0m\u001b[0;34m.\u001b[0m\u001b[0mP\u001b[0m\u001b[0;34m,\u001b[0m\u001b[0;34m'path'\u001b[0m\u001b[0;34m:\u001b[0m\u001b[0mpath\u001b[0m\u001b[0;34m.\u001b[0m\u001b[0mY\u001b[0m\u001b[0;34m}\u001b[0m\u001b[0;34m)\u001b[0m\u001b[0;34m\u001b[0m\u001b[0;34m\u001b[0m\u001b[0m\n",
      "\u001b[0;32m<ipython-input-18-820418e51165>\u001b[0m in \u001b[0;36mgenerate\u001b[0;34m(self)\u001b[0m\n\u001b[1;32m    101\u001b[0m \u001b[0;34m\u001b[0m\u001b[0m\n\u001b[1;32m    102\u001b[0m         \u001b[0mprob\u001b[0m\u001b[0;34m=\u001b[0m\u001b[0mcp\u001b[0m\u001b[0;34m.\u001b[0m\u001b[0mProblem\u001b[0m\u001b[0;34m(\u001b[0m\u001b[0mcp\u001b[0m\u001b[0;34m.\u001b[0m\u001b[0mMinimize\u001b[0m\u001b[0;34m(\u001b[0m\u001b[0mcost\u001b[0m\u001b[0;34m)\u001b[0m\u001b[0;34m,\u001b[0m\u001b[0mconstraints\u001b[0m\u001b[0;34m)\u001b[0m\u001b[0;34m\u001b[0m\u001b[0;34m\u001b[0m\u001b[0m\n\u001b[0;32m--> 103\u001b[0;31m         \u001b[0mprob\u001b[0m\u001b[0;34m.\u001b[0m\u001b[0msolve\u001b[0m\u001b[0;34m(\u001b[0m\u001b[0;34m)\u001b[0m\u001b[0;34m\u001b[0m\u001b[0;34m\u001b[0m\u001b[0m\n\u001b[0m\u001b[1;32m    104\u001b[0m \u001b[0;34m\u001b[0m\u001b[0m\n\u001b[1;32m    105\u001b[0m \u001b[0;34m\u001b[0m\u001b[0m\n",
      "\u001b[0;32m/opt/conda/lib/python3.8/site-packages/cvxpy/problems/problem.py\u001b[0m in \u001b[0;36msolve\u001b[0;34m(self, *args, **kwargs)\u001b[0m\n\u001b[1;32m    394\u001b[0m         \u001b[0;32melse\u001b[0m\u001b[0;34m:\u001b[0m\u001b[0;34m\u001b[0m\u001b[0;34m\u001b[0m\u001b[0m\n\u001b[1;32m    395\u001b[0m             \u001b[0msolve_func\u001b[0m \u001b[0;34m=\u001b[0m \u001b[0mProblem\u001b[0m\u001b[0;34m.\u001b[0m\u001b[0m_solve\u001b[0m\u001b[0;34m\u001b[0m\u001b[0;34m\u001b[0m\u001b[0m\n\u001b[0;32m--> 396\u001b[0;31m         \u001b[0;32mreturn\u001b[0m \u001b[0msolve_func\u001b[0m\u001b[0;34m(\u001b[0m\u001b[0mself\u001b[0m\u001b[0;34m,\u001b[0m \u001b[0;34m*\u001b[0m\u001b[0margs\u001b[0m\u001b[0;34m,\u001b[0m \u001b[0;34m**\u001b[0m\u001b[0mkwargs\u001b[0m\u001b[0;34m)\u001b[0m\u001b[0;34m\u001b[0m\u001b[0;34m\u001b[0m\u001b[0m\n\u001b[0m\u001b[1;32m    397\u001b[0m \u001b[0;34m\u001b[0m\u001b[0m\n\u001b[1;32m    398\u001b[0m     \u001b[0;34m@\u001b[0m\u001b[0mclassmethod\u001b[0m\u001b[0;34m\u001b[0m\u001b[0;34m\u001b[0m\u001b[0m\n",
      "\u001b[0;32m/opt/conda/lib/python3.8/site-packages/cvxpy/problems/problem.py\u001b[0m in \u001b[0;36m_solve\u001b[0;34m(self, solver, warm_start, verbose, gp, qcp, requires_grad, enforce_dpp, **kwargs)\u001b[0m\n\u001b[1;32m    750\u001b[0m         data, solving_chain, inverse_data = self.get_problem_data(\n\u001b[1;32m    751\u001b[0m             solver, gp, enforce_dpp)\n\u001b[0;32m--> 752\u001b[0;31m         solution = solving_chain.solve_via_data(\n\u001b[0m\u001b[1;32m    753\u001b[0m             self, data, warm_start, verbose, kwargs)\n\u001b[1;32m    754\u001b[0m         \u001b[0mself\u001b[0m\u001b[0;34m.\u001b[0m\u001b[0munpack_results\u001b[0m\u001b[0;34m(\u001b[0m\u001b[0msolution\u001b[0m\u001b[0;34m,\u001b[0m \u001b[0msolving_chain\u001b[0m\u001b[0;34m,\u001b[0m \u001b[0minverse_data\u001b[0m\u001b[0;34m)\u001b[0m\u001b[0;34m\u001b[0m\u001b[0;34m\u001b[0m\u001b[0m\n",
      "\u001b[0;32m/opt/conda/lib/python3.8/site-packages/cvxpy/reductions/solvers/solving_chain.py\u001b[0m in \u001b[0;36msolve_via_data\u001b[0;34m(self, problem, data, warm_start, verbose, solver_opts)\u001b[0m\n\u001b[1;32m    323\u001b[0m             \u001b[0ma\u001b[0m \u001b[0mSolution\u001b[0m \u001b[0mobject\u001b[0m\u001b[0;34m.\u001b[0m\u001b[0;34m\u001b[0m\u001b[0;34m\u001b[0m\u001b[0m\n\u001b[1;32m    324\u001b[0m         \"\"\"\n\u001b[0;32m--> 325\u001b[0;31m         return self.solver.solve_via_data(data, warm_start, verbose,\n\u001b[0m\u001b[1;32m    326\u001b[0m                                           solver_opts, problem._solver_cache)\n",
      "\u001b[0;32m/opt/conda/lib/python3.8/site-packages/cvxpy/reductions/solvers/qp_solvers/osqp_qpif.py\u001b[0m in \u001b[0;36msolve_via_data\u001b[0;34m(self, data, warm_start, verbose, solver_opts, solver_cache)\u001b[0m\n\u001b[1;32m    101\u001b[0m             \u001b[0msolver\u001b[0m\u001b[0;34m.\u001b[0m\u001b[0msetup\u001b[0m\u001b[0;34m(\u001b[0m\u001b[0mP\u001b[0m\u001b[0;34m,\u001b[0m \u001b[0mq\u001b[0m\u001b[0;34m,\u001b[0m \u001b[0mA\u001b[0m\u001b[0;34m,\u001b[0m \u001b[0mlA\u001b[0m\u001b[0;34m,\u001b[0m \u001b[0muA\u001b[0m\u001b[0;34m,\u001b[0m \u001b[0mverbose\u001b[0m\u001b[0;34m=\u001b[0m\u001b[0mverbose\u001b[0m\u001b[0;34m,\u001b[0m \u001b[0;34m**\u001b[0m\u001b[0msolver_opts\u001b[0m\u001b[0;34m)\u001b[0m\u001b[0;34m\u001b[0m\u001b[0;34m\u001b[0m\u001b[0m\n\u001b[1;32m    102\u001b[0m \u001b[0;34m\u001b[0m\u001b[0m\n\u001b[0;32m--> 103\u001b[0;31m         \u001b[0mresults\u001b[0m \u001b[0;34m=\u001b[0m \u001b[0msolver\u001b[0m\u001b[0;34m.\u001b[0m\u001b[0msolve\u001b[0m\u001b[0;34m(\u001b[0m\u001b[0;34m)\u001b[0m\u001b[0;34m\u001b[0m\u001b[0;34m\u001b[0m\u001b[0m\n\u001b[0m\u001b[1;32m    104\u001b[0m \u001b[0;34m\u001b[0m\u001b[0m\n\u001b[1;32m    105\u001b[0m         \u001b[0;32mif\u001b[0m \u001b[0msolver_cache\u001b[0m \u001b[0;32mis\u001b[0m \u001b[0;32mnot\u001b[0m \u001b[0;32mNone\u001b[0m\u001b[0;34m:\u001b[0m\u001b[0;34m\u001b[0m\u001b[0;34m\u001b[0m\u001b[0m\n",
      "\u001b[0;32m/opt/conda/lib/python3.8/site-packages/osqp/interface.py\u001b[0m in \u001b[0;36msolve\u001b[0;34m(self)\u001b[0m\n\u001b[1;32m    233\u001b[0m         \"\"\"\n\u001b[1;32m    234\u001b[0m         \u001b[0;31m# Solve QP\u001b[0m\u001b[0;34m\u001b[0m\u001b[0;34m\u001b[0m\u001b[0;34m\u001b[0m\u001b[0m\n\u001b[0;32m--> 235\u001b[0;31m         \u001b[0mresults\u001b[0m \u001b[0;34m=\u001b[0m \u001b[0mself\u001b[0m\u001b[0;34m.\u001b[0m\u001b[0m_model\u001b[0m\u001b[0;34m.\u001b[0m\u001b[0msolve\u001b[0m\u001b[0;34m(\u001b[0m\u001b[0;34m)\u001b[0m\u001b[0;34m\u001b[0m\u001b[0;34m\u001b[0m\u001b[0m\n\u001b[0m\u001b[1;32m    236\u001b[0m \u001b[0;34m\u001b[0m\u001b[0m\n\u001b[1;32m    237\u001b[0m         \u001b[0;31m# TODO(bart): this will be unnecessary when the derivative will be in C\u001b[0m\u001b[0;34m\u001b[0m\u001b[0;34m\u001b[0m\u001b[0;34m\u001b[0m\u001b[0m\n",
      "\u001b[0;31mValueError\u001b[0m: OSQP solve error!"
     ]
    }
   ],
   "source": [
    "feature=build_feature()\n",
    "\n",
    "F_start = input('Input start index of F: ')\n",
    "F_end = input('Input end index of F, max is {}:'.format(build_feature().total_num_F))\n",
    "P_start = input('Input start index of P, default if {}: '.format(0))\n",
    "P_end = input('Input end index of P, max and default is {}: '.format(build_feature().total_num_P))\n",
    "\n",
    "F_start = int(F_start)\n",
    "F_end = int(F_end)\n",
    "\n",
    "P_start=0 if P_start=='' else int(P_start)\n",
    "P_end=build_feature().total_num_P if P_end=='' else int(P_end)\n",
    "\n",
    "\n",
    "\n",
    "for ind_F in range(F_start,F_end):\n",
    "    feature.fetch_feature_F(ind_F)\n",
    "    track=build_track(feature.F)\n",
    "    print('Current F is ',ind_F)\n",
    "    \n",
    "    data = []\n",
    "    \n",
    "    for ind_P in tqdm(range(P_start,P_end)):\n",
    "        feature.fetch_feature_P(ind_P)\n",
    "        path=build_path(feature.F,feature.P,track)\n",
    "        path.generate()\n",
    "        \n",
    "        data.append({'F':feature.F,'P':feature.P,'path':path.Y})\n",
    "        \n",
    "    name='F_{}_P_{}_to_{}.npy'.format(ind_F,P_start,P_end)\n",
    "    path='/home/jovyan/work/sv_data/'\n",
    "    np.save(path+name,data)\n",
    "    \n",
    "# path.plot()"
   ]
  },
  {
   "cell_type": "code",
   "execution_count": 22,
   "metadata": {},
   "outputs": [
    {
     "data": {
      "text/plain": [
       "10000"
      ]
     },
     "execution_count": 22,
     "metadata": {},
     "output_type": "execute_result"
    }
   ],
   "source": [
    "feature.total_num_P"
   ]
  },
  {
   "cell_type": "code",
   "execution_count": 160,
   "metadata": {},
   "outputs": [
    {
     "name": "stdout",
     "output_type": "stream",
     "text": [
      "0.10710954666137695\n"
     ]
    },
    {
     "data": {
      "image/png": "[encoded data removed]",
      "text/plain": [
       "<Figure size 432x288 with 1 Axes>"
      ]
     },
     "metadata": {
      "needs_background": "light"
     },
     "output_type": "display_data"
    },
    {
     "data": {
      "image/png": "[encoded data removed]",
      "text/plain": [
       "<Figure size 720x432 with 2 Axes>"
      ]
     },
     "metadata": {
      "needs_background": "light"
     },
     "output_type": "display_data"
    }
   ],
   "source": [
    "feature=build_feature()\n",
    "ind_F=93\n",
    "ind_P=14567\n",
    "feature.fetch_feature_F(ind_F)\n",
    "feature.fetch_feature_P(ind_P)\n",
    "\n",
    "track=build_track(feature.F)\n",
    "path=build_path(feature.F,feature.P,track)\n",
    "\n",
    "times=1\n",
    "start=time.time()\n",
    "for i in range(times):\n",
    "#     path.generate()\n",
    "    path.generate()\n",
    "\n",
    "end=time.time()\n",
    "\n",
    "print((end-start))\n",
    "\n",
    "path.plot()"
   ]
  }
 ],
 "metadata": {
  "kernelspec": {
   "display_name": "Python 3",
   "language": "python",
   "name": "python3"
  },
  "language_info": {
   "codemirror_mode": {
    "name": "ipython",
    "version": 3
   },
   "file_extension": ".py",
   "mimetype": "text/x-python",
   "name": "python",
   "nbconvert_exporter": "python",
   "pygments_lexer": "ipython3",
   "version": "3.8.6"
  }
 },
 "nbformat": 4,
 "nbformat_minor": 4
}
