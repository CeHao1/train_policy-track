{
 "cells": [
  {
   "cell_type": "code",
   "execution_count": 117,
   "metadata": {},
   "outputs": [],
   "source": [
    "import numpy as np\n",
    "import matplotlib.pyplot as plt\n",
    "\n",
    "import random # for test only\n",
    "\n",
    "%matplotlib inline"
   ]
  },
  {
   "cell_type": "code",
   "execution_count": 118,
   "metadata": {},
   "outputs": [],
   "source": [
    "# use binary seraching\n",
    "\n",
    "# initial policy\n",
    "num_sample=5\n",
    "num_pts=3\n",
    "\n",
    "bnd=np.tile(np.array([-1.0,1.0]),(num_pts,1))\n",
    "\n",
    "# policies=np.tile(np.linspace(-1,1,num_sample),(num_pts,1))\n",
    "\n",
    "\n",
    "size_policy=()\n",
    "for i in range(num_pts):\n",
    "    size_policy+=(num_sample,)\n",
    "\n",
    "policy_lib=np.array(list(np.unravel_index(\n",
    "                np.arange(num_sample**num_pts),size_policy)))\n",
    "\n",
    "# binary loop\n",
    "for iter_binary in range(5):\n",
    "    # fetch policies\n",
    "    policies=[np.linspace(bnd[i][0],bnd[i][1],num_sample) for i in range(num_pts)]\n",
    "    \n",
    "    # policy loop\n",
    "    for iter_policy in range(num_sample**num_pts):\n",
    "        \n",
    "        # select policy\n",
    "        policy=[policies[i][policy_lib[i][iter_policy]] for i in range(num_pts)]\n",
    "        \n",
    "# TODO: \n",
    "        # use NN to get cost and end velocity \n",
    "\n",
    "# TODO:\n",
    "    # calculate F and H(using the distance of next corner)  \n",
    "    # then select the best policy\n",
    "    \n",
    "#     best_iter=95 # for example\n",
    "    best_iter = random.randint(0,num_sample**num_pts)\n",
    "    best_index=[policy_lib[i][best_iter] for i in range(num_pts)]\n",
    "\n",
    "# replan the policies with binary method\n",
    "\n",
    "    for i in range(num_pts):\n",
    "        \n",
    "        bnd[i][0]=policies[i][max(best_index[i]-1,0)]\n",
    "        bnd[i][1]=policies[i][min(best_index[i]+1,num_sample-1)]\n",
    "    \n",
    "\n",
    "    \n",
    "policy_finally=[policies[i][best_index[i]] for i in range(num_pts)]\n",
    "\n"
   ]
  },
  {
   "cell_type": "code",
   "execution_count": 119,
   "metadata": {},
   "outputs": [
    {
     "name": "stdout",
     "output_type": "stream",
     "text": [
      "[0.6875, 0.65625, -0.9375]\n"
     ]
    }
   ],
   "source": [
    "print(policy_finally)"
   ]
  },
  {
   "cell_type": "code",
   "execution_count": null,
   "metadata": {},
   "outputs": [],
   "source": []
  }
 ],
 "metadata": {
  "kernelspec": {
   "display_name": "Python 3",
   "language": "python",
   "name": "python3"
  },
  "language_info": {
   "codemirror_mode": {
    "name": "ipython",
    "version": 3
   },
   "file_extension": ".py",
   "mimetype": "text/x-python",
   "name": "python",
   "nbconvert_exporter": "python",
   "pygments_lexer": "ipython3",
   "version": "3.8.6"
  }
 },
 "nbformat": 4,
 "nbformat_minor": 4
}
